{
 "cells": [
  {
   "cell_type": "markdown",
   "metadata": {},
   "source": [
    "## Use case: Network traffic analysis for malware detection. \n",
    "The dataset contains features of network traffic such as timestamp, duration, protocol, number of packets, size of pakets and whether malware was contained in the flow or not. Analysis is expected the the row level, and two rows of data are independent of each other\n",
    "\n",
    "_Dataset can be obtained here https://github.com/stratosphereips/ML-for-Network-Security_"
   ]
  },
  {
   "cell_type": "markdown",
   "metadata": {},
   "source": [
    "## Import necessary libraries"
   ]
  },
  {
   "cell_type": "code",
   "execution_count": 64,
   "metadata": {},
   "outputs": [],
   "source": [
    "import pandas as pd  # dataframe manipulations\n",
    "import numpy as np # manipulate data as arrays\n",
    "import time # datetime manipulations\n",
    "import datetime # same ^*^\n",
    "import warnings # supress warnings\n",
    "warnings.filterwarnings(\"ignore\")\n",
    "from sklearn.preprocessing import MinMaxScaler, OneHotEncoder #squash data column-wise between 0 and 1 and transform \n",
    "                                                              # categorical data\n",
    "scaler = MinMaxScaler()\n",
    "enc = OneHotEncoder(handle_unknown='ignore')\n",
    "from sklearn.model_selection import train_test_split #split datasetinto training and test sets\n",
    "from sklearn.ensemble import RandomForestClassifier, GradientBoostingClassifier #decision tree algos\n",
    "from sklearn.metrics import confusion_matrix, classification_report, accuracy_score #evaluation of accuracy and other metrics\n",
    "import matplotlib.pyplot as plt #plotting library\n",
    "import seaborn #also a great plotting lib\n",
    "from sklearn import tree\n",
    "from sklearn.tree import DecisionTreeClassifier #visualizing decision trees\n",
    "import pydotplus #create graph of visualization\n",
    "import graphviz #rendering of decision tree\n",
    "import collections"
   ]
  },
  {
   "cell_type": "markdown",
   "metadata": {},
   "source": [
    "## Import and manipulate data"
   ]
  },
  {
   "cell_type": "code",
   "execution_count": 2,
   "metadata": {},
   "outputs": [],
   "source": [
    "dateparse = lambda x: pd.datetime.strptime(x, '%Y/%m/%d %H:%M:%S.%f')\n",
    "\n",
    "dfmal = pd.read_csv(\"C:\\\\Users\\\\apurnaik\\\\Desktop\\\\malware.binetflow.txt\",sep = \"\\t\", parse_dates=['StartTime'] , date_parser=dateparse)\n",
    "dfnorm = pd.read_csv(\"C:\\\\Users\\\\apurnaik\\\\Desktop\\\\normal.binetflow.txt\",sep = \"\\t\", parse_dates=['StartTime'] , date_parser=dateparse)"
   ]
  },
  {
   "cell_type": "code",
   "execution_count": 3,
   "metadata": {},
   "outputs": [
    {
     "name": "stdout",
     "output_type": "stream",
     "text": [
      "(4517, 16)\n",
      "(53372, 16)\n"
     ]
    }
   ],
   "source": [
    "print(dfnorm.shape)\n",
    "print(dfmal.shape)"
   ]
  },
  {
   "cell_type": "code",
   "execution_count": 4,
   "metadata": {},
   "outputs": [
    {
     "name": "stdout",
     "output_type": "stream",
     "text": [
      "(4515, 16)\n",
      "(53370, 16)\n"
     ]
    }
   ],
   "source": [
    "dfmal.dropna(subset = ['Label'], inplace = True)\n",
    "dfnorm.dropna(subset = ['Label'], inplace = True)\n",
    "\n",
    "print(dfnorm.shape)\n",
    "print(dfmal.shape)"
   ]
  },
  {
   "cell_type": "markdown",
   "metadata": {},
   "source": [
    "## Data exploration"
   ]
  },
  {
   "cell_type": "markdown",
   "metadata": {},
   "source": [
    "### What is the mode of entry for malwares?"
   ]
  },
  {
   "cell_type": "code",
   "execution_count": 5,
   "metadata": {},
   "outputs": [
    {
     "data": {
      "text/plain": [
       "flow=Malware-UDP-DNS                   25657\n",
       "flow=Background-UDP-Attempt-DNS        12969\n",
       "flow=Malware-TCP                        8384\n",
       "flow=Background-UDP-DNS                 6116\n",
       "flow=Background-ICMP                     224\n",
       "flow=Background-UDP-Attempt                9\n",
       "flow=Background                            4\n",
       "flow=Background-ARP                        3\n",
       "flow=Background-UDP-Attempt-NetBIOS        3\n",
       "flow=TCP-Established-To-Microsoft-7        1\n",
       "Name: Label, dtype: int64"
      ]
     },
     "execution_count": 5,
     "metadata": {},
     "output_type": "execute_result"
    }
   ],
   "source": [
    "dfmal.Label.value_counts()"
   ]
  },
  {
   "cell_type": "code",
   "execution_count": 6,
   "metadata": {},
   "outputs": [
    {
     "data": {
      "text/html": [
       "<div>\n",
       "<style scoped>\n",
       "    .dataframe tbody tr th:only-of-type {\n",
       "        vertical-align: middle;\n",
       "    }\n",
       "\n",
       "    .dataframe tbody tr th {\n",
       "        vertical-align: top;\n",
       "    }\n",
       "\n",
       "    .dataframe thead th {\n",
       "        text-align: right;\n",
       "    }\n",
       "</style>\n",
       "<table border=\"1\" class=\"dataframe\">\n",
       "  <thead>\n",
       "    <tr style=\"text-align: right;\">\n",
       "      <th></th>\n",
       "      <th>StartTime</th>\n",
       "      <th>Dur</th>\n",
       "      <th>Proto</th>\n",
       "      <th>SrcAddr</th>\n",
       "      <th>Sport</th>\n",
       "      <th>Dir</th>\n",
       "      <th>DstAddr</th>\n",
       "      <th>Dport</th>\n",
       "      <th>State</th>\n",
       "      <th>sTos</th>\n",
       "      <th>dTos</th>\n",
       "      <th>TotPkts</th>\n",
       "      <th>TotBytes</th>\n",
       "      <th>SrcBytes</th>\n",
       "      <th>SrcPkts</th>\n",
       "      <th>Label</th>\n",
       "    </tr>\n",
       "  </thead>\n",
       "  <tbody>\n",
       "    <tr>\n",
       "      <th>1</th>\n",
       "      <td>1970-01-01 01:00:00.000000</td>\n",
       "      <td>0.000000</td>\n",
       "      <td>llc</td>\n",
       "      <td>00:00:00:00:00:00</td>\n",
       "      <td>0</td>\n",
       "      <td>-&gt;</td>\n",
       "      <td>00:00:00:00:00:00</td>\n",
       "      <td>0</td>\n",
       "      <td>INT</td>\n",
       "      <td>NaN</td>\n",
       "      <td>NaN</td>\n",
       "      <td>1</td>\n",
       "      <td>60</td>\n",
       "      <td>60</td>\n",
       "      <td>1</td>\n",
       "      <td>flow=Background</td>\n",
       "    </tr>\n",
       "    <tr>\n",
       "      <th>2</th>\n",
       "      <td>1970-01-01 01:00:08.140073</td>\n",
       "      <td>0.000000</td>\n",
       "      <td>udp</td>\n",
       "      <td>0.0.0.0</td>\n",
       "      <td>68</td>\n",
       "      <td>-&gt;</td>\n",
       "      <td>255.255.255.255</td>\n",
       "      <td>67</td>\n",
       "      <td>INT</td>\n",
       "      <td>0.0</td>\n",
       "      <td>NaN</td>\n",
       "      <td>1</td>\n",
       "      <td>344</td>\n",
       "      <td>344</td>\n",
       "      <td>1</td>\n",
       "      <td>flow=Background-UDP-Attempt</td>\n",
       "    </tr>\n",
       "    <tr>\n",
       "      <th>3</th>\n",
       "      <td>1970-01-01 01:00:08.140269</td>\n",
       "      <td>71.165138</td>\n",
       "      <td>udp</td>\n",
       "      <td>10.0.2.2</td>\n",
       "      <td>67</td>\n",
       "      <td>-&gt;</td>\n",
       "      <td>10.0.2.15</td>\n",
       "      <td>68</td>\n",
       "      <td>INT</td>\n",
       "      <td>16.0</td>\n",
       "      <td>NaN</td>\n",
       "      <td>3</td>\n",
       "      <td>1770</td>\n",
       "      <td>1770</td>\n",
       "      <td>3</td>\n",
       "      <td>flow=Background-UDP-Attempt</td>\n",
       "    </tr>\n",
       "  </tbody>\n",
       "</table>\n",
       "</div>"
      ],
      "text/plain": [
       "                   StartTime        Dur Proto            SrcAddr Sport    Dir  \\\n",
       "1 1970-01-01 01:00:00.000000   0.000000   llc  00:00:00:00:00:00     0     ->   \n",
       "2 1970-01-01 01:00:08.140073   0.000000   udp            0.0.0.0    68     ->   \n",
       "3 1970-01-01 01:00:08.140269  71.165138   udp           10.0.2.2    67     ->   \n",
       "\n",
       "             DstAddr Dport State  sTos  dTos  TotPkts  TotBytes  SrcBytes  \\\n",
       "1  00:00:00:00:00:00     0   INT   NaN   NaN        1        60        60   \n",
       "2    255.255.255.255    67   INT   0.0   NaN        1       344       344   \n",
       "3          10.0.2.15    68   INT  16.0   NaN        3      1770      1770   \n",
       "\n",
       "   SrcPkts                        Label  \n",
       "1        1              flow=Background  \n",
       "2        1  flow=Background-UDP-Attempt  \n",
       "3        3  flow=Background-UDP-Attempt  "
      ]
     },
     "execution_count": 6,
     "metadata": {},
     "output_type": "execute_result"
    }
   ],
   "source": [
    "dfmal[:3]"
   ]
  },
  {
   "cell_type": "code",
   "execution_count": 7,
   "metadata": {},
   "outputs": [
    {
     "data": {
      "text/html": [
       "<div>\n",
       "<style scoped>\n",
       "    .dataframe tbody tr th:only-of-type {\n",
       "        vertical-align: middle;\n",
       "    }\n",
       "\n",
       "    .dataframe tbody tr th {\n",
       "        vertical-align: top;\n",
       "    }\n",
       "\n",
       "    .dataframe thead th {\n",
       "        text-align: right;\n",
       "    }\n",
       "</style>\n",
       "<table border=\"1\" class=\"dataframe\">\n",
       "  <thead>\n",
       "    <tr style=\"text-align: right;\">\n",
       "      <th></th>\n",
       "      <th>StartTime</th>\n",
       "      <th>Dur</th>\n",
       "      <th>Proto</th>\n",
       "      <th>SrcAddr</th>\n",
       "      <th>Sport</th>\n",
       "      <th>Dir</th>\n",
       "      <th>DstAddr</th>\n",
       "      <th>Dport</th>\n",
       "      <th>State</th>\n",
       "      <th>sTos</th>\n",
       "      <th>dTos</th>\n",
       "      <th>TotPkts</th>\n",
       "      <th>TotBytes</th>\n",
       "      <th>SrcBytes</th>\n",
       "      <th>SrcPkts</th>\n",
       "      <th>Label</th>\n",
       "      <th>Threat</th>\n",
       "    </tr>\n",
       "  </thead>\n",
       "  <tbody>\n",
       "    <tr>\n",
       "      <th>1</th>\n",
       "      <td>1970-01-01 01:00:00</td>\n",
       "      <td>0.0</td>\n",
       "      <td>llc</td>\n",
       "      <td>00:00:00:00:00:00</td>\n",
       "      <td>0</td>\n",
       "      <td>-&gt;</td>\n",
       "      <td>00:00:00:00:00:00</td>\n",
       "      <td>0</td>\n",
       "      <td>INT</td>\n",
       "      <td>NaN</td>\n",
       "      <td>NaN</td>\n",
       "      <td>1</td>\n",
       "      <td>60</td>\n",
       "      <td>60</td>\n",
       "      <td>1</td>\n",
       "      <td>flow=Background</td>\n",
       "      <td>0</td>\n",
       "    </tr>\n",
       "  </tbody>\n",
       "</table>\n",
       "</div>"
      ],
      "text/plain": [
       "            StartTime  Dur Proto            SrcAddr Sport    Dir  \\\n",
       "1 1970-01-01 01:00:00  0.0   llc  00:00:00:00:00:00     0     ->   \n",
       "\n",
       "             DstAddr Dport State  sTos  dTos  TotPkts  TotBytes  SrcBytes  \\\n",
       "1  00:00:00:00:00:00     0   INT   NaN   NaN        1        60        60   \n",
       "\n",
       "   SrcPkts            Label  Threat  \n",
       "1        1  flow=Background       0  "
      ]
     },
     "execution_count": 7,
     "metadata": {},
     "output_type": "execute_result"
    }
   ],
   "source": [
    "# merge the two datasets\n",
    "dfmal['Threat'] = 1\n",
    "dfnorm['Threat'] = 0\n",
    "dfnorm.head(1)"
   ]
  },
  {
   "cell_type": "code",
   "execution_count": 8,
   "metadata": {},
   "outputs": [
    {
     "data": {
      "text/plain": [
       "(57885, 17)"
      ]
     },
     "execution_count": 8,
     "metadata": {},
     "output_type": "execute_result"
    }
   ],
   "source": [
    "dfall = pd.concat([dfmal, dfnorm], axis = 0)\n",
    "dfall.dropna(subset = ['Label'], inplace = True)\n",
    "dfall.shape"
   ]
  },
  {
   "cell_type": "code",
   "execution_count": 9,
   "metadata": {},
   "outputs": [],
   "source": [
    "dfall['Label_v1'] = dfall['Label'].apply(lambda x: x[12:] if x.startswith('flow=Normal') else (x[13:] if x.startswith('flow=Malware') else x.strip()[16:] if x.startswith('flow=Background') else x))\n",
    "# dfall['Label_v1'].value_counts()"
   ]
  },
  {
   "cell_type": "code",
   "execution_count": 12,
   "metadata": {
    "scrolled": true
   },
   "outputs": [
    {
     "data": {
      "text/plain": [
       "Threat  Label_v1                           \n",
       "1       UDP-DNS                                31773\n",
       "        UDP-Attempt-DNS                        12969\n",
       "        TCP                                     8384\n",
       "0       TCP-WEB-Established-TLS                 1630\n",
       "        UDP-DNS                                 1096\n",
       "        TCP-WEB-Established                      719\n",
       "        Google-Net-8                             324\n",
       "1       ICMP                                     224\n",
       "0       UDP-Attempt-DNS                          154\n",
       "        TCP-Facebook-Net-1                       153\n",
       "        Google-Net-9                             147\n",
       "        UDP-Attempt                              105\n",
       "        Google-Net-6                              51\n",
       "        ICMP                                      38\n",
       "        UDP-Established                           32\n",
       "        To-Microsoft-21                           18\n",
       "        IGMP                                      13\n",
       "        Google-Net-10                             13\n",
       "1       UDP-Attempt                                9\n",
       "0       To-Microsoft-13                            5\n",
       "                                                   4\n",
       "1                                                  4\n",
       "        UDP-Attempt-NetBIOS                        3\n",
       "0       To-Microsoft-26                            3\n",
       "1       ARP                                        3\n",
       "0       ARP                                        2\n",
       "        To-Microsoft-3                             2\n",
       "        To-Microsoft-7                             2\n",
       "        UDP-Attempt-NetBIOS                        2\n",
       "        TCP-Attempt                                1\n",
       "        To-Microsoft-30                            1\n",
       "1       flow=TCP-Established-To-Microsoft-7        1\n",
       "Name: Label_v1, dtype: int64"
      ]
     },
     "execution_count": 12,
     "metadata": {},
     "output_type": "execute_result"
    }
   ],
   "source": [
    "# mode of entry for malwares grouped by whether it is actually a malware or a benign \n",
    "dfall.groupby('Threat')['Label_v1'].value_counts().sort_values( ascending = False)"
   ]
  },
  {
   "cell_type": "markdown",
   "metadata": {},
   "source": [
    "### convert date to timestamp"
   ]
  },
  {
   "cell_type": "code",
   "execution_count": 14,
   "metadata": {},
   "outputs": [
    {
     "name": "stdout",
     "output_type": "stream",
     "text": [
      "3767.739017\n"
     ]
    }
   ],
   "source": [
    "s = dfall.iloc[1286]['StartTime']\n",
    "epoch = pd.datetime(1970, 1, 1,0,0,0,0)\n",
    "diff = s-epoch\n",
    "print (diff.total_seconds())"
   ]
  },
  {
   "cell_type": "code",
   "execution_count": 15,
   "metadata": {},
   "outputs": [],
   "source": [
    "epoch = pd.datetime(1970,1,1)\n",
    "dfall['StartTimeTimestamp'] = dfall['StartTime'].apply(lambda x: ((x-epoch).total_seconds())*100000)"
   ]
  },
  {
   "cell_type": "markdown",
   "metadata": {},
   "source": [
    "### Direction of flow: convert from symbol to category"
   ]
  },
  {
   "cell_type": "code",
   "execution_count": 16,
   "metadata": {},
   "outputs": [],
   "source": [
    "d = {'   ->':'forward','  <->':'both', '  who':'who'}\n",
    "dfall['Direction'] = dfall['Dir'].map(d)"
   ]
  },
  {
   "cell_type": "code",
   "execution_count": 17,
   "metadata": {},
   "outputs": [
    {
     "data": {
      "text/plain": [
       "both       31879\n",
       "forward    26001\n",
       "who            5\n",
       "Name: Direction, dtype: int64"
      ]
     },
     "execution_count": 17,
     "metadata": {},
     "output_type": "execute_result"
    }
   ],
   "source": [
    "dfall['Direction'].value_counts()"
   ]
  },
  {
   "cell_type": "code",
   "execution_count": 93,
   "metadata": {},
   "outputs": [
    {
     "data": {
      "text/html": [
       "<div>\n",
       "<style scoped>\n",
       "    .dataframe tbody tr th:only-of-type {\n",
       "        vertical-align: middle;\n",
       "    }\n",
       "\n",
       "    .dataframe tbody tr th {\n",
       "        vertical-align: top;\n",
       "    }\n",
       "\n",
       "    .dataframe thead th {\n",
       "        text-align: right;\n",
       "    }\n",
       "</style>\n",
       "<table border=\"1\" class=\"dataframe\">\n",
       "  <thead>\n",
       "    <tr style=\"text-align: right;\">\n",
       "      <th></th>\n",
       "      <th>StartTime</th>\n",
       "      <th>Dur</th>\n",
       "      <th>Proto</th>\n",
       "      <th>SrcAddr</th>\n",
       "      <th>Sport</th>\n",
       "      <th>Dir</th>\n",
       "      <th>DstAddr</th>\n",
       "      <th>Dport</th>\n",
       "      <th>State</th>\n",
       "      <th>sTos</th>\n",
       "      <th>dTos</th>\n",
       "      <th>TotPkts</th>\n",
       "      <th>TotBytes</th>\n",
       "      <th>SrcBytes</th>\n",
       "      <th>SrcPkts</th>\n",
       "      <th>Label</th>\n",
       "      <th>Threat</th>\n",
       "      <th>StartTimeTimestamp</th>\n",
       "      <th>Direction</th>\n",
       "    </tr>\n",
       "  </thead>\n",
       "  <tbody>\n",
       "    <tr>\n",
       "      <th>1</th>\n",
       "      <td>1970-01-01 01:00:00.000000</td>\n",
       "      <td>0.000000</td>\n",
       "      <td>llc</td>\n",
       "      <td>00:00:00:00:00:00</td>\n",
       "      <td>0</td>\n",
       "      <td>-&gt;</td>\n",
       "      <td>00:00:00:00:00:00</td>\n",
       "      <td>0</td>\n",
       "      <td>INT</td>\n",
       "      <td>NaN</td>\n",
       "      <td>NaN</td>\n",
       "      <td>1</td>\n",
       "      <td>60</td>\n",
       "      <td>60</td>\n",
       "      <td>1</td>\n",
       "      <td>flow=Background</td>\n",
       "      <td>1</td>\n",
       "      <td>360000000.0</td>\n",
       "      <td>forward</td>\n",
       "    </tr>\n",
       "    <tr>\n",
       "      <th>2</th>\n",
       "      <td>1970-01-01 01:00:08.140073</td>\n",
       "      <td>0.000000</td>\n",
       "      <td>udp</td>\n",
       "      <td>0.0.0.0</td>\n",
       "      <td>68</td>\n",
       "      <td>-&gt;</td>\n",
       "      <td>255.255.255.255</td>\n",
       "      <td>67</td>\n",
       "      <td>INT</td>\n",
       "      <td>0.0</td>\n",
       "      <td>NaN</td>\n",
       "      <td>1</td>\n",
       "      <td>344</td>\n",
       "      <td>344</td>\n",
       "      <td>1</td>\n",
       "      <td>flow=Background-UDP-Attempt</td>\n",
       "      <td>1</td>\n",
       "      <td>360814007.3</td>\n",
       "      <td>forward</td>\n",
       "    </tr>\n",
       "    <tr>\n",
       "      <th>3</th>\n",
       "      <td>1970-01-01 01:00:08.140269</td>\n",
       "      <td>71.165138</td>\n",
       "      <td>udp</td>\n",
       "      <td>10.0.2.2</td>\n",
       "      <td>67</td>\n",
       "      <td>-&gt;</td>\n",
       "      <td>10.0.2.15</td>\n",
       "      <td>68</td>\n",
       "      <td>INT</td>\n",
       "      <td>16.0</td>\n",
       "      <td>NaN</td>\n",
       "      <td>3</td>\n",
       "      <td>1770</td>\n",
       "      <td>1770</td>\n",
       "      <td>3</td>\n",
       "      <td>flow=Background-UDP-Attempt</td>\n",
       "      <td>1</td>\n",
       "      <td>360814026.9</td>\n",
       "      <td>forward</td>\n",
       "    </tr>\n",
       "    <tr>\n",
       "      <th>4</th>\n",
       "      <td>1970-01-01 01:00:08.156845</td>\n",
       "      <td>3554.205811</td>\n",
       "      <td>arp</td>\n",
       "      <td>10.0.2.15</td>\n",
       "      <td>NaN</td>\n",
       "      <td>who</td>\n",
       "      <td>10.0.2.2</td>\n",
       "      <td>NaN</td>\n",
       "      <td>CON</td>\n",
       "      <td>NaN</td>\n",
       "      <td>NaN</td>\n",
       "      <td>22</td>\n",
       "      <td>924</td>\n",
       "      <td>462</td>\n",
       "      <td>11</td>\n",
       "      <td>flow=Background-ARP</td>\n",
       "      <td>1</td>\n",
       "      <td>360815684.5</td>\n",
       "      <td>who</td>\n",
       "    </tr>\n",
       "  </tbody>\n",
       "</table>\n",
       "</div>"
      ],
      "text/plain": [
       "                   StartTime          Dur Proto            SrcAddr Sport  \\\n",
       "1 1970-01-01 01:00:00.000000     0.000000   llc  00:00:00:00:00:00     0   \n",
       "2 1970-01-01 01:00:08.140073     0.000000   udp            0.0.0.0    68   \n",
       "3 1970-01-01 01:00:08.140269    71.165138   udp           10.0.2.2    67   \n",
       "4 1970-01-01 01:00:08.156845  3554.205811   arp          10.0.2.15   NaN   \n",
       "\n",
       "     Dir            DstAddr Dport State  sTos  dTos  TotPkts  TotBytes  \\\n",
       "1     ->  00:00:00:00:00:00     0   INT   NaN   NaN        1        60   \n",
       "2     ->    255.255.255.255    67   INT   0.0   NaN        1       344   \n",
       "3     ->          10.0.2.15    68   INT  16.0   NaN        3      1770   \n",
       "4    who           10.0.2.2   NaN   CON   NaN   NaN       22       924   \n",
       "\n",
       "   SrcBytes  SrcPkts                        Label  Threat  StartTimeTimestamp  \\\n",
       "1        60        1              flow=Background       1         360000000.0   \n",
       "2       344        1  flow=Background-UDP-Attempt       1         360814007.3   \n",
       "3      1770        3  flow=Background-UDP-Attempt       1         360814026.9   \n",
       "4       462       11          flow=Background-ARP       1         360815684.5   \n",
       "\n",
       "  Direction  \n",
       "1   forward  \n",
       "2   forward  \n",
       "3   forward  \n",
       "4       who  "
      ]
     },
     "execution_count": 93,
     "metadata": {},
     "output_type": "execute_result"
    }
   ],
   "source": [
    "dfall[:4]"
   ]
  },
  {
   "cell_type": "code",
   "execution_count": 299,
   "metadata": {},
   "outputs": [
    {
     "data": {
      "text/plain": [
       "0"
      ]
     },
     "execution_count": 299,
     "metadata": {},
     "output_type": "execute_result"
    }
   ],
   "source": [
    "dfall['SrcAddr'].isnull().sum()"
   ]
  },
  {
   "cell_type": "markdown",
   "metadata": {},
   "source": [
    "### Keep only those cols with no missing values"
   ]
  },
  {
   "cell_type": "code",
   "execution_count": 51,
   "metadata": {},
   "outputs": [
    {
     "name": "stdout",
     "output_type": "stream",
     "text": [
      " \"StartTime\", \n",
      " \"Dur\", \n",
      " \"Proto\", \n",
      " \"SrcAddr\", \n",
      " \"Dir\", \n",
      " \"DstAddr\", \n",
      " \"State\", \n",
      " \"TotPkts\", \n",
      " \"TotBytes\", \n",
      " \"SrcBytes\", \n",
      " \"SrcPkts\", \n",
      " \"Label\", \n",
      " \"Threat\", \n",
      " \"Label_v1\", \n",
      " \"StartTimeTimestamp\", \n",
      " \"Direction\", \n"
     ]
    }
   ],
   "source": [
    "for i in dfall.columns:\n",
    "    if dfall[i].isnull().sum()==0:\n",
    "        print(' \"%s\", ' %i)\n",
    "#         print '%s %s %s'%('python','is','fun')\n",
    "\n",
    "dfall_sub = dfall[[ \"StartTime\", \n",
    " \"Dur\", \n",
    " \"Proto\", \n",
    " \"SrcAddr\", \n",
    " \"Dir\", \n",
    " \"DstAddr\", \n",
    " \"State\", \n",
    " \"TotPkts\", \n",
    " \"TotBytes\", \n",
    " \"SrcBytes\", \n",
    " \"SrcPkts\", \n",
    " \"Label\", \n",
    " \"Threat\", \n",
    " \"StartTimeTimestamp\", \n",
    " \"Direction\",\n",
    " \"Label_v1\"]]\n",
    "\n",
    "# for i in dfall_sub.columns:\n",
    "#     print(i)\n",
    "    \n",
    "#     print(dfall_sub[i].value_counts())\n",
    "#     print(\"\\n\")"
   ]
  },
  {
   "cell_type": "code",
   "execution_count": 282,
   "metadata": {},
   "outputs": [
    {
     "data": {
      "text/html": [
       "<div>\n",
       "<style scoped>\n",
       "    .dataframe tbody tr th:only-of-type {\n",
       "        vertical-align: middle;\n",
       "    }\n",
       "\n",
       "    .dataframe tbody tr th {\n",
       "        vertical-align: top;\n",
       "    }\n",
       "\n",
       "    .dataframe thead th {\n",
       "        text-align: right;\n",
       "    }\n",
       "</style>\n",
       "<table border=\"1\" class=\"dataframe\">\n",
       "  <thead>\n",
       "    <tr style=\"text-align: right;\">\n",
       "      <th></th>\n",
       "      <th>StartTime</th>\n",
       "      <th>Dur</th>\n",
       "      <th>Proto</th>\n",
       "      <th>SrcAddr</th>\n",
       "      <th>Dir</th>\n",
       "      <th>DstAddr</th>\n",
       "      <th>State</th>\n",
       "      <th>TotPkts</th>\n",
       "      <th>TotBytes</th>\n",
       "      <th>SrcBytes</th>\n",
       "      <th>SrcPkts</th>\n",
       "      <th>Label</th>\n",
       "      <th>Threat</th>\n",
       "      <th>StartTimeTimestamp</th>\n",
       "      <th>Direction</th>\n",
       "      <th>Label_v1</th>\n",
       "    </tr>\n",
       "  </thead>\n",
       "  <tbody>\n",
       "    <tr>\n",
       "      <th>1</th>\n",
       "      <td>1970-01-01 01:00:00.000000</td>\n",
       "      <td>0.0</td>\n",
       "      <td>llc</td>\n",
       "      <td>00:00:00:00:00:00</td>\n",
       "      <td>-&gt;</td>\n",
       "      <td>00:00:00:00:00:00</td>\n",
       "      <td>INT</td>\n",
       "      <td>1</td>\n",
       "      <td>60</td>\n",
       "      <td>60</td>\n",
       "      <td>1</td>\n",
       "      <td>flow=Background</td>\n",
       "      <td>1</td>\n",
       "      <td>360000000.0</td>\n",
       "      <td>forward</td>\n",
       "      <td></td>\n",
       "    </tr>\n",
       "    <tr>\n",
       "      <th>2</th>\n",
       "      <td>1970-01-01 01:00:08.140073</td>\n",
       "      <td>0.0</td>\n",
       "      <td>udp</td>\n",
       "      <td>0.0.0.0</td>\n",
       "      <td>-&gt;</td>\n",
       "      <td>255.255.255.255</td>\n",
       "      <td>INT</td>\n",
       "      <td>1</td>\n",
       "      <td>344</td>\n",
       "      <td>344</td>\n",
       "      <td>1</td>\n",
       "      <td>flow=Background-UDP-Attempt</td>\n",
       "      <td>1</td>\n",
       "      <td>360814007.3</td>\n",
       "      <td>forward</td>\n",
       "      <td>UDP-Attempt</td>\n",
       "    </tr>\n",
       "  </tbody>\n",
       "</table>\n",
       "</div>"
      ],
      "text/plain": [
       "                   StartTime  Dur Proto            SrcAddr    Dir  \\\n",
       "1 1970-01-01 01:00:00.000000  0.0   llc  00:00:00:00:00:00     ->   \n",
       "2 1970-01-01 01:00:08.140073  0.0   udp            0.0.0.0     ->   \n",
       "\n",
       "             DstAddr State  TotPkts  TotBytes  SrcBytes  SrcPkts  \\\n",
       "1  00:00:00:00:00:00   INT        1        60        60        1   \n",
       "2    255.255.255.255   INT        1       344       344        1   \n",
       "\n",
       "                         Label  Threat  StartTimeTimestamp Direction  \\\n",
       "1              flow=Background       1         360000000.0   forward   \n",
       "2  flow=Background-UDP-Attempt       1         360814007.3   forward   \n",
       "\n",
       "      Label_v1  \n",
       "1               \n",
       "2  UDP-Attempt  "
      ]
     },
     "execution_count": 282,
     "metadata": {},
     "output_type": "execute_result"
    }
   ],
   "source": [
    "dfall_sub[:2]"
   ]
  },
  {
   "cell_type": "code",
   "execution_count": 19,
   "metadata": {},
   "outputs": [
    {
     "data": {
      "text/plain": [
       "Direction  Threat\n",
       "both       1         30445\n",
       "forward    1         22922\n",
       "           0          3079\n",
       "both       0          1434\n",
       "who        1             3\n",
       "           0             2\n",
       "Name: Threat, dtype: int64"
      ]
     },
     "execution_count": 19,
     "metadata": {},
     "output_type": "execute_result"
    }
   ],
   "source": [
    "dfall_sub.groupby('Direction')['Threat'].value_counts().sort_values(ascending = False)"
   ]
  },
  {
   "cell_type": "code",
   "execution_count": 20,
   "metadata": {},
   "outputs": [
    {
     "data": {
      "text/plain": [
       "Proto      Threat\n",
       "udp        1         44754\n",
       "tcp        1          8385\n",
       "           0          2757\n",
       "udp        0          1696\n",
       "icmp       1           224\n",
       "           0            43\n",
       "igmp       0            13\n",
       "ipv6-icmp  1             3\n",
       "           0             3\n",
       "arp        1             3\n",
       "           0             2\n",
       "llc        1             1\n",
       "           0             1\n",
       "Name: Threat, dtype: int64"
      ]
     },
     "execution_count": 20,
     "metadata": {},
     "output_type": "execute_result"
    }
   ],
   "source": [
    "dfall_sub.groupby('Proto')['Threat'].value_counts().sort_values(ascending = False)"
   ]
  },
  {
   "cell_type": "markdown",
   "metadata": {},
   "source": [
    "### replace blank values in a subset of data where label is 'flow=Background' to 'no_more_info'"
   ]
  },
  {
   "cell_type": "code",
   "execution_count": 21,
   "metadata": {},
   "outputs": [],
   "source": [
    "dfall_sub[dfall_sub[\"Label_v1\"]=='']\n",
    "dfall_sub['Label_v1'] = dfall_sub['Label_v1'].apply(lambda x: 'background' if x=='' else x)"
   ]
  },
  {
   "cell_type": "markdown",
   "metadata": {},
   "source": [
    "### retain feats that will be fed into the model"
   ]
  },
  {
   "cell_type": "code",
   "execution_count": 22,
   "metadata": {},
   "outputs": [],
   "source": [
    "exclude_cols = ['StartTime','Label','Dir']\n",
    "include_cols = [i for i in dfall_sub.columns if i not in exclude_cols]\n",
    "dfall_mod = dfall_sub[include_cols]"
   ]
  },
  {
   "cell_type": "markdown",
   "metadata": {},
   "source": [
    "### normalize numeric cols"
   ]
  },
  {
   "cell_type": "code",
   "execution_count": 23,
   "metadata": {
    "collapsed": true
   },
   "outputs": [
    {
     "name": "stderr",
     "output_type": "stream",
     "text": [
      "C:\\Users\\apurnaik\\AppData\\Local\\Continuum\\anaconda3\\lib\\site-packages\\sklearn\\preprocessing\\data.py:334: DataConversionWarning: Data with input dtype int64 were all converted to float64 by MinMaxScaler.\n",
      "  return self.partial_fit(X, y)\n",
      "C:\\Users\\apurnaik\\AppData\\Local\\Continuum\\anaconda3\\lib\\site-packages\\sklearn\\preprocessing\\data.py:334: DataConversionWarning: Data with input dtype int64 were all converted to float64 by MinMaxScaler.\n",
      "  return self.partial_fit(X, y)\n",
      "C:\\Users\\apurnaik\\AppData\\Local\\Continuum\\anaconda3\\lib\\site-packages\\sklearn\\preprocessing\\data.py:334: DataConversionWarning: Data with input dtype int64 were all converted to float64 by MinMaxScaler.\n",
      "  return self.partial_fit(X, y)\n",
      "C:\\Users\\apurnaik\\AppData\\Local\\Continuum\\anaconda3\\lib\\site-packages\\sklearn\\preprocessing\\data.py:334: DataConversionWarning: Data with input dtype int64 were all converted to float64 by MinMaxScaler.\n",
      "  return self.partial_fit(X, y)\n",
      "C:\\Users\\apurnaik\\AppData\\Local\\Continuum\\anaconda3\\lib\\site-packages\\sklearn\\preprocessing\\data.py:334: DataConversionWarning: Data with input dtype int64 were all converted to float64 by MinMaxScaler.\n",
      "  return self.partial_fit(X, y)\n"
     ]
    }
   ],
   "source": [
    "num_cols = dfall_mod.select_dtypes(include=[np.number]).columns\n",
    "for i in num_cols:\n",
    "    dfall_mod[i] = scaler.fit_transform(dfall_mod[[i]])"
   ]
  },
  {
   "cell_type": "code",
   "execution_count": 24,
   "metadata": {},
   "outputs": [
    {
     "data": {
      "text/plain": [
       "count    57885.000000\n",
       "mean         0.000059\n",
       "std          0.004485\n",
       "min          0.000000\n",
       "25%          0.000002\n",
       "50%          0.000002\n",
       "75%          0.000003\n",
       "max          1.000000\n",
       "Name: TotBytes, dtype: float64"
      ]
     },
     "execution_count": 24,
     "metadata": {},
     "output_type": "execute_result"
    }
   ],
   "source": [
    "dfall_mod['TotBytes'].describe()"
   ]
  },
  {
   "cell_type": "markdown",
   "metadata": {},
   "source": [
    "### One-hot-encode categorical cols"
   ]
  },
  {
   "cell_type": "code",
   "execution_count": 25,
   "metadata": {},
   "outputs": [
    {
     "name": "stdout",
     "output_type": "stream",
     "text": [
      "['Proto', 'SrcAddr', 'DstAddr', 'State', 'Direction', 'Label_v1']\n"
     ]
    },
    {
     "data": {
      "text/html": [
       "<div>\n",
       "<style scoped>\n",
       "    .dataframe tbody tr th:only-of-type {\n",
       "        vertical-align: middle;\n",
       "    }\n",
       "\n",
       "    .dataframe tbody tr th {\n",
       "        vertical-align: top;\n",
       "    }\n",
       "\n",
       "    .dataframe thead th {\n",
       "        text-align: right;\n",
       "    }\n",
       "</style>\n",
       "<table border=\"1\" class=\"dataframe\">\n",
       "  <thead>\n",
       "    <tr style=\"text-align: right;\">\n",
       "      <th></th>\n",
       "      <th>Dur</th>\n",
       "      <th>TotPkts</th>\n",
       "      <th>TotBytes</th>\n",
       "      <th>SrcBytes</th>\n",
       "      <th>SrcPkts</th>\n",
       "      <th>Threat</th>\n",
       "      <th>StartTimeTimestamp</th>\n",
       "      <th>Proto_arp</th>\n",
       "      <th>Proto_icmp</th>\n",
       "      <th>Proto_igmp</th>\n",
       "      <th>...</th>\n",
       "      <th>Label_v1_To-Microsoft-3</th>\n",
       "      <th>Label_v1_To-Microsoft-30</th>\n",
       "      <th>Label_v1_To-Microsoft-7</th>\n",
       "      <th>Label_v1_UDP-Attempt</th>\n",
       "      <th>Label_v1_UDP-Attempt-DNS</th>\n",
       "      <th>Label_v1_UDP-Attempt-NetBIOS</th>\n",
       "      <th>Label_v1_UDP-DNS</th>\n",
       "      <th>Label_v1_UDP-Established</th>\n",
       "      <th>Label_v1_background</th>\n",
       "      <th>Label_v1_flow=TCP-Established-To-Microsoft-7</th>\n",
       "    </tr>\n",
       "  </thead>\n",
       "  <tbody>\n",
       "    <tr>\n",
       "      <th>1</th>\n",
       "      <td>0.0</td>\n",
       "      <td>0.0</td>\n",
       "      <td>6.567139e-08</td>\n",
       "      <td>0.000002</td>\n",
       "      <td>0.0</td>\n",
       "      <td>1.0</td>\n",
       "      <td>0.000000</td>\n",
       "      <td>0</td>\n",
       "      <td>0</td>\n",
       "      <td>0</td>\n",
       "      <td>...</td>\n",
       "      <td>0</td>\n",
       "      <td>0</td>\n",
       "      <td>0</td>\n",
       "      <td>0</td>\n",
       "      <td>0</td>\n",
       "      <td>0</td>\n",
       "      <td>0</td>\n",
       "      <td>0</td>\n",
       "      <td>1</td>\n",
       "      <td>0</td>\n",
       "    </tr>\n",
       "    <tr>\n",
       "      <th>2</th>\n",
       "      <td>0.0</td>\n",
       "      <td>0.0</td>\n",
       "      <td>3.174117e-06</td>\n",
       "      <td>0.000097</td>\n",
       "      <td>0.0</td>\n",
       "      <td>1.0</td>\n",
       "      <td>0.001106</td>\n",
       "      <td>0</td>\n",
       "      <td>0</td>\n",
       "      <td>0</td>\n",
       "      <td>...</td>\n",
       "      <td>0</td>\n",
       "      <td>0</td>\n",
       "      <td>0</td>\n",
       "      <td>1</td>\n",
       "      <td>0</td>\n",
       "      <td>0</td>\n",
       "      <td>0</td>\n",
       "      <td>0</td>\n",
       "      <td>0</td>\n",
       "      <td>0</td>\n",
       "    </tr>\n",
       "  </tbody>\n",
       "</table>\n",
       "<p>2 rows × 581 columns</p>\n",
       "</div>"
      ],
      "text/plain": [
       "   Dur  TotPkts      TotBytes  SrcBytes  SrcPkts  Threat  StartTimeTimestamp  \\\n",
       "1  0.0      0.0  6.567139e-08  0.000002      0.0     1.0            0.000000   \n",
       "2  0.0      0.0  3.174117e-06  0.000097      0.0     1.0            0.001106   \n",
       "\n",
       "   Proto_arp  Proto_icmp  Proto_igmp  ...  Label_v1_To-Microsoft-3  \\\n",
       "1          0           0           0  ...                        0   \n",
       "2          0           0           0  ...                        0   \n",
       "\n",
       "   Label_v1_To-Microsoft-30  Label_v1_To-Microsoft-7  Label_v1_UDP-Attempt  \\\n",
       "1                         0                        0                     0   \n",
       "2                         0                        0                     1   \n",
       "\n",
       "   Label_v1_UDP-Attempt-DNS  Label_v1_UDP-Attempt-NetBIOS  Label_v1_UDP-DNS  \\\n",
       "1                         0                             0                 0   \n",
       "2                         0                             0                 0   \n",
       "\n",
       "   Label_v1_UDP-Established  Label_v1_background  \\\n",
       "1                         0                    1   \n",
       "2                         0                    0   \n",
       "\n",
       "   Label_v1_flow=TCP-Established-To-Microsoft-7  \n",
       "1                                             0  \n",
       "2                                             0  \n",
       "\n",
       "[2 rows x 581 columns]"
      ]
     },
     "execution_count": 25,
     "metadata": {},
     "output_type": "execute_result"
    }
   ],
   "source": [
    "cat_cols = [i for i in dfall_mod if i not in num_cols]\n",
    "print(cat_cols)\n",
    "for i in cat_cols:\n",
    "    df = pd.get_dummies(dfall_mod[[i]])\n",
    "    dfall_mod = pd.concat([dfall_mod, df], axis = 1)\n",
    "    dfall_mod.drop([i], inplace = True, axis = 1)\n",
    "dfall_mod[:2]"
   ]
  },
  {
   "cell_type": "markdown",
   "metadata": {},
   "source": [
    "## test train split"
   ]
  },
  {
   "cell_type": "code",
   "execution_count": 26,
   "metadata": {},
   "outputs": [
    {
     "data": {
      "text/html": [
       "<div>\n",
       "<style scoped>\n",
       "    .dataframe tbody tr th:only-of-type {\n",
       "        vertical-align: middle;\n",
       "    }\n",
       "\n",
       "    .dataframe tbody tr th {\n",
       "        vertical-align: top;\n",
       "    }\n",
       "\n",
       "    .dataframe thead th {\n",
       "        text-align: right;\n",
       "    }\n",
       "</style>\n",
       "<table border=\"1\" class=\"dataframe\">\n",
       "  <thead>\n",
       "    <tr style=\"text-align: right;\">\n",
       "      <th></th>\n",
       "      <th>Dur</th>\n",
       "      <th>TotPkts</th>\n",
       "      <th>TotBytes</th>\n",
       "      <th>SrcBytes</th>\n",
       "      <th>SrcPkts</th>\n",
       "      <th>StartTimeTimestamp</th>\n",
       "      <th>Proto_arp</th>\n",
       "      <th>Proto_icmp</th>\n",
       "      <th>Proto_igmp</th>\n",
       "      <th>Proto_ipv6-icmp</th>\n",
       "      <th>...</th>\n",
       "      <th>Label_v1_To-Microsoft-3</th>\n",
       "      <th>Label_v1_To-Microsoft-30</th>\n",
       "      <th>Label_v1_To-Microsoft-7</th>\n",
       "      <th>Label_v1_UDP-Attempt</th>\n",
       "      <th>Label_v1_UDP-Attempt-DNS</th>\n",
       "      <th>Label_v1_UDP-Attempt-NetBIOS</th>\n",
       "      <th>Label_v1_UDP-DNS</th>\n",
       "      <th>Label_v1_UDP-Established</th>\n",
       "      <th>Label_v1_background</th>\n",
       "      <th>Label_v1_flow=TCP-Established-To-Microsoft-7</th>\n",
       "    </tr>\n",
       "  </thead>\n",
       "  <tbody>\n",
       "    <tr>\n",
       "      <th>1</th>\n",
       "      <td>0.000000</td>\n",
       "      <td>0.000000</td>\n",
       "      <td>6.567139e-08</td>\n",
       "      <td>0.000002</td>\n",
       "      <td>0.000000</td>\n",
       "      <td>0.000000</td>\n",
       "      <td>0</td>\n",
       "      <td>0</td>\n",
       "      <td>0</td>\n",
       "      <td>0</td>\n",
       "      <td>...</td>\n",
       "      <td>0</td>\n",
       "      <td>0</td>\n",
       "      <td>0</td>\n",
       "      <td>0</td>\n",
       "      <td>0</td>\n",
       "      <td>0</td>\n",
       "      <td>0</td>\n",
       "      <td>0</td>\n",
       "      <td>1</td>\n",
       "      <td>0</td>\n",
       "    </tr>\n",
       "    <tr>\n",
       "      <th>2</th>\n",
       "      <td>0.000000</td>\n",
       "      <td>0.000000</td>\n",
       "      <td>3.174117e-06</td>\n",
       "      <td>0.000097</td>\n",
       "      <td>0.000000</td>\n",
       "      <td>0.001106</td>\n",
       "      <td>0</td>\n",
       "      <td>0</td>\n",
       "      <td>0</td>\n",
       "      <td>0</td>\n",
       "      <td>...</td>\n",
       "      <td>0</td>\n",
       "      <td>0</td>\n",
       "      <td>0</td>\n",
       "      <td>1</td>\n",
       "      <td>0</td>\n",
       "      <td>0</td>\n",
       "      <td>0</td>\n",
       "      <td>0</td>\n",
       "      <td>0</td>\n",
       "      <td>0</td>\n",
       "    </tr>\n",
       "    <tr>\n",
       "      <th>3</th>\n",
       "      <td>0.019769</td>\n",
       "      <td>0.000013</td>\n",
       "      <td>1.878202e-05</td>\n",
       "      <td>0.000572</td>\n",
       "      <td>0.000045</td>\n",
       "      <td>0.001106</td>\n",
       "      <td>0</td>\n",
       "      <td>0</td>\n",
       "      <td>0</td>\n",
       "      <td>0</td>\n",
       "      <td>...</td>\n",
       "      <td>0</td>\n",
       "      <td>0</td>\n",
       "      <td>0</td>\n",
       "      <td>1</td>\n",
       "      <td>0</td>\n",
       "      <td>0</td>\n",
       "      <td>0</td>\n",
       "      <td>0</td>\n",
       "      <td>0</td>\n",
       "      <td>0</td>\n",
       "    </tr>\n",
       "  </tbody>\n",
       "</table>\n",
       "<p>3 rows × 580 columns</p>\n",
       "</div>"
      ],
      "text/plain": [
       "        Dur   TotPkts      TotBytes  SrcBytes   SrcPkts  StartTimeTimestamp  \\\n",
       "1  0.000000  0.000000  6.567139e-08  0.000002  0.000000            0.000000   \n",
       "2  0.000000  0.000000  3.174117e-06  0.000097  0.000000            0.001106   \n",
       "3  0.019769  0.000013  1.878202e-05  0.000572  0.000045            0.001106   \n",
       "\n",
       "   Proto_arp  Proto_icmp  Proto_igmp  Proto_ipv6-icmp  ...  \\\n",
       "1          0           0           0                0  ...   \n",
       "2          0           0           0                0  ...   \n",
       "3          0           0           0                0  ...   \n",
       "\n",
       "   Label_v1_To-Microsoft-3  Label_v1_To-Microsoft-30  Label_v1_To-Microsoft-7  \\\n",
       "1                        0                         0                        0   \n",
       "2                        0                         0                        0   \n",
       "3                        0                         0                        0   \n",
       "\n",
       "   Label_v1_UDP-Attempt  Label_v1_UDP-Attempt-DNS  \\\n",
       "1                     0                         0   \n",
       "2                     1                         0   \n",
       "3                     1                         0   \n",
       "\n",
       "   Label_v1_UDP-Attempt-NetBIOS  Label_v1_UDP-DNS  Label_v1_UDP-Established  \\\n",
       "1                             0                 0                         0   \n",
       "2                             0                 0                         0   \n",
       "3                             0                 0                         0   \n",
       "\n",
       "   Label_v1_background  Label_v1_flow=TCP-Established-To-Microsoft-7  \n",
       "1                    1                                             0  \n",
       "2                    0                                             0  \n",
       "3                    0                                             0  \n",
       "\n",
       "[3 rows x 580 columns]"
      ]
     },
     "execution_count": 26,
     "metadata": {},
     "output_type": "execute_result"
    }
   ],
   "source": [
    "need_cols = [i for i in dfall_mod.columns if i != 'Threat']\n",
    "X = dfall_mod[need_cols]\n",
    "y = dfall_mod[['Threat']]\n",
    "X[:3]"
   ]
  },
  {
   "cell_type": "code",
   "execution_count": 43,
   "metadata": {},
   "outputs": [
    {
     "name": "stdout",
     "output_type": "stream",
     "text": [
      "(34731, 580)\n",
      "(34731, 1)\n",
      "(23154, 580)\n",
      "(23154, 1)\n"
     ]
    }
   ],
   "source": [
    "X_train, X_test, y_train, y_test = train_test_split(X, y, test_size=0.4, random_state=42)\n",
    "\n",
    "print(X_train.shape)\n",
    "print(y_train.shape)\n",
    "print(X_test.shape)\n",
    "print(y_test.shape)"
   ]
  },
  {
   "cell_type": "markdown",
   "metadata": {},
   "source": [
    "# train"
   ]
  },
  {
   "cell_type": "code",
   "execution_count": 47,
   "metadata": {},
   "outputs": [],
   "source": [
    "X_train, y_train = np.array(X_train), np.array(y_train)\n",
    "y_train = [i for j in y_train for i in j]\n",
    "X_test, y_test = np.array(X_test),np.array(y_test)\n",
    "y_test = [i for j in y_test for i in j]"
   ]
  },
  {
   "cell_type": "code",
   "execution_count": 48,
   "metadata": {},
   "outputs": [
    {
     "data": {
      "text/plain": [
       "RandomForestClassifier(bootstrap=True, class_weight=None, criterion='gini',\n",
       "            max_depth=None, max_features='auto', max_leaf_nodes=None,\n",
       "            min_impurity_decrease=0.0, min_impurity_split=None,\n",
       "            min_samples_leaf=1, min_samples_split=2,\n",
       "            min_weight_fraction_leaf=0.0, n_estimators=10, n_jobs=None,\n",
       "            oob_score=False, random_state=None, verbose=0,\n",
       "            warm_start=False)"
      ]
     },
     "execution_count": 48,
     "metadata": {},
     "output_type": "execute_result"
    }
   ],
   "source": [
    "clf = RandomForestClassifier()\n",
    "clf.fit(X_train, y_train)"
   ]
  },
  {
   "cell_type": "markdown",
   "metadata": {},
   "source": [
    "# Evaluate: standalone and K-fold cross validation"
   ]
  },
  {
   "cell_type": "code",
   "execution_count": 52,
   "metadata": {},
   "outputs": [
    {
     "name": "stdout",
     "output_type": "stream",
     "text": [
      "[ 1790 21364]\n",
      "Confusion Matrix: \n",
      " [[ 1782     3]\n",
      " [    8 21361]]\n",
      "Accuracy of Classifier: \n",
      " 0.9995249201001987\n",
      "              precision    recall  f1-score   support\n",
      "\n",
      "         0.0       1.00      1.00      1.00      1785\n",
      "         1.0       1.00      1.00      1.00     21369\n",
      "\n",
      "   micro avg       1.00      1.00      1.00     23154\n",
      "   macro avg       1.00      1.00      1.00     23154\n",
      "weighted avg       1.00      1.00      1.00     23154\n",
      "\n"
     ]
    }
   ],
   "source": [
    "y_pred = clf.predict(X_test)\n",
    "print(np.bincount(y_pred.astype(int)))\n",
    "\n",
    "print('Confusion Matrix: \\n',confusion_matrix(y_test, y_pred))\n",
    "print('Accuracy of Classifier: \\n',accuracy_score(y_test, y_pred))\n",
    "print(classification_report(y_test, y_pred))"
   ]
  },
  {
   "cell_type": "markdown",
   "metadata": {},
   "source": [
    "## Accuracy of the classifier: 99.95%"
   ]
  },
  {
   "cell_type": "code",
   "execution_count": 53,
   "metadata": {},
   "outputs": [
    {
     "data": {
      "text/plain": [
       "array([0.99971211, 0.99985603, 0.9995681 , 0.99899223, 0.9995681 ])"
      ]
     },
     "execution_count": 53,
     "metadata": {},
     "output_type": "execute_result"
    }
   ],
   "source": [
    "# 5 fold cross validation to reduce the possibility of getting high accuracy because of random chance, bias etc.\n",
    "from sklearn.model_selection import cross_val_score\n",
    "\n",
    "clf.fit(X_train, y_train)\n",
    "scores = cross_val_score(clf, X_train, y_train, cv=5)\n",
    "scores "
   ]
  },
  {
   "cell_type": "markdown",
   "metadata": {},
   "source": [
    "# Analyze and Interpret results"
   ]
  },
  {
   "cell_type": "markdown",
   "metadata": {},
   "source": [
    "## Feature Importance\n",
    "The features that were most important for getting the accuracy"
   ]
  },
  {
   "cell_type": "code",
   "execution_count": 55,
   "metadata": {},
   "outputs": [
    {
     "data": {
      "text/plain": [
       "<matplotlib.axes._subplots.AxesSubplot at 0x22380067fd0>"
      ]
     },
     "execution_count": 55,
     "metadata": {},
     "output_type": "execute_result"
    },
    {
     "data": {
      "image/png": "[encoded data removed]",
      "text/plain": [
       "<Figure size 432x288 with 1 Axes>"
      ]
     },
     "metadata": {
      "needs_background": "light"
     },
     "output_type": "display_data"
    }
   ],
   "source": [
    "dffeat = pd.DataFrame(clf.feature_importances_, index = [X.columns], columns = ['Feature_Importance']).sort_values(by = ['Feature_Importance'], ascending = False)\n",
    "dffeat = dffeat[dffeat['Feature_Importance'] > 0.005]\n",
    "\n",
    "dffeat['Feature_Importance'][:10].plot(kind = \"barh\", colormap  = 'twilight', edgecolor = 'grey')"
   ]
  },
  {
   "cell_type": "markdown",
   "metadata": {},
   "source": [
    "## Distribution of features total_packets and total_bytes, colored by whether malware network flow or not"
   ]
  },
  {
   "cell_type": "code",
   "execution_count": 234,
   "metadata": {},
   "outputs": [
    {
     "data": {
      "image/png": "[encoded data removed]",
      "text/plain": [
       "<Figure size 432x288 with 1 Axes>"
      ]
     },
     "metadata": {},
     "output_type": "display_data"
    }
   ],
   "source": [
    "th_0 = list(dfall['TotPkts'][dfall['Threat']==0])\n",
    "data_a = [[i for i in th_0]]\n",
    "\n",
    "th_1 = list(dfall['TotPkts'][dfall['Threat']==1])\n",
    "data_b = [[i for i in th_1]]\n",
    "\n",
    "def set_box_color(bp, color):\n",
    "    plt.setp(bp['boxes'], color=color)\n",
    "    plt.setp(bp['whiskers'], color=color)\n",
    "    plt.setp(bp['caps'], color=color)\n",
    "    plt.setp(bp['medians'], color=color)\n",
    "\n",
    "plt.figure()\n",
    "bp0 = plt.boxplot(data_a, positions=np.array(range(len(data_a)))*2.0-0.1 , widths=0.1,sym = '', manage_xticks = False)\n",
    "bp1 = plt.boxplot(data_b, positions=np.array(range(len(data_b)))*2.0+0.1, widths=0.1, sym='', manage_xticks = False)\n",
    "set_box_color(bp0, 'pink') # colors are from http://colorbrewer2.org/\n",
    "set_box_color(bp1, 'turquoise')\n",
    "\n",
    "# draw temporary red and blue lines and use them to create a legend\n",
    "plt.plot([], c='pink', label='Not Threat')\n",
    "plt.plot([], c='turquoise', label='Threat')\n",
    "plt.legend()\n",
    "\n",
    "plt.xticks([])\n",
    "plt.xlabel('Distribution of Total_Packets by Threat')\n",
    "plt.tight_layout()"
   ]
  },
  {
   "cell_type": "markdown",
   "metadata": {},
   "source": [
    "This may have been a very important feature from the model's point of view, however it might not make much sense in reality, as this is a case of causation, rather than correlation. My reasoning is, the data pertaining to a threat negative instance can encode a variety of situations, from network performance, lags etc, unlike threat positive instances that describe a very specific case."
   ]
  },
  {
   "cell_type": "markdown",
   "metadata": {},
   "source": [
    "## Distribution of features total_packets and total_source_bytes, colored by whether malware network flow or not"
   ]
  },
  {
   "cell_type": "code",
   "execution_count": 72,
   "metadata": {},
   "outputs": [
    {
     "data": {
      "text/plain": [
       "<seaborn.axisgrid.FacetGrid at 0x22381d1d278>"
      ]
     },
     "execution_count": 72,
     "metadata": {},
     "output_type": "execute_result"
    },
    {
     "data": {
      "image/png": "[encoded data removed]",
      "text/plain": [
       "<Figure size 582.539x379.44 with 1 Axes>"
      ]
     },
     "metadata": {},
     "output_type": "display_data"
    }
   ],
   "source": [
    "# dfall_mod['ref'] = 0\n",
    "seaborn.set(style='ticks')\n",
    "flatui = ['pink','turquoise']\n",
    "# sns.palplot(sns.color_palette(flatui))\n",
    "_threatvals= [0,1]\n",
    "fg = seaborn.FacetGrid(data=dfall, hue='Threat', palette = flatui, hue_order=_threatvals, height=5.27, aspect=11.7/8.27)\n",
    "fg.map(plt.scatter, 'TotPkts', 'SrcBytes',alpha = 0.9, edgecolor=\"grey\", s = 55 ).add_legend()"
   ]
  },
  {
   "cell_type": "markdown",
   "metadata": {},
   "source": [
    "As already illustrated, the data distribution for threat positive instances is much more compact"
   ]
  },
  {
   "cell_type": "code",
   "execution_count": 406,
   "metadata": {},
   "outputs": [
    {
     "data": {
      "image/png": "[encoded data removed]",
      "text/plain": [
       "<Figure size 432x288 with 1 Axes>"
      ]
     },
     "metadata": {},
     "output_type": "display_data"
    }
   ],
   "source": [
    "th_0 = list(dfall['SrcPkts'][dfall['Threat']==0])\n",
    "data_a = [[i for i in th_0]]\n",
    "\n",
    "th_1 = list(dfall['SrcPkts'][dfall['Threat']==1])\n",
    "data_b = [[i for i in th_1]]\n",
    "\n",
    "def set_box_color(bp, color):\n",
    "    plt.setp(bp['boxes'], color=color)\n",
    "    plt.setp(bp['whiskers'], color=color)\n",
    "    plt.setp(bp['caps'], color=color)\n",
    "    plt.setp(bp['medians'], color=color)\n",
    "\n",
    "plt.figure()\n",
    "green_diamond = dict(markerfacecolor='g', marker='D')\n",
    "bp0 = plt.boxplot(data_a, positions=np.array(range(len(data_a)))*2.0-0.1 , widths=0.1,sym = '', manage_xticks = False, flierprops=green_diamond)\n",
    "bp1 = plt.boxplot(data_b, positions=np.array(range(len(data_b)))*2.0+0.1, widths=0.1, sym='', manage_xticks = False, flierprops=green_diamond)\n",
    "set_box_color(bp0, 'pink') # colors are from http://colorbrewer2.org/\n",
    "set_box_color(bp1, 'turquoise')\n",
    "\n",
    "# draw temporary red and blue lines and use them to create a legend\n",
    "plt.plot([], c='pink', label='Not Threat')\n",
    "plt.plot([], c='turquoise', label='Threat')\n",
    "plt.legend()\n",
    "\n",
    "plt.xticks([])\n",
    "plt.xlabel('Distribution of Source_Packets_Size by Threat')\n",
    "plt.tight_layout()"
   ]
  },
  {
   "cell_type": "markdown",
   "metadata": {},
   "source": [
    "Remove these causal features from the model and see if we get the same accuracy"
   ]
  },
  {
   "cell_type": "markdown",
   "metadata": {},
   "source": [
    "## Visualize Decision Tree\n",
    "This visualization is just to provide intuition as to how the classifier might be analyzing the data and coming to the above conclusion. _Not to be taken literally_"
   ]
  },
  {
   "cell_type": "code",
   "execution_count": 56,
   "metadata": {},
   "outputs": [],
   "source": [
    "# set system path for graphviz\n",
    "import os\n",
    "os.environ[\"PATH\"] += os.pathsep + 'C:\\\\Program Files (x86)\\\\Graphviz2.38\\\\bin\\\\'"
   ]
  },
  {
   "cell_type": "code",
   "execution_count": 377,
   "metadata": {},
   "outputs": [
    {
     "name": "stdout",
     "output_type": "stream",
     "text": [
      "(57885, 20)\n"
     ]
    },
    {
     "data": {
      "text/html": [
       "<div>\n",
       "<style scoped>\n",
       "    .dataframe tbody tr th:only-of-type {\n",
       "        vertical-align: middle;\n",
       "    }\n",
       "\n",
       "    .dataframe tbody tr th {\n",
       "        vertical-align: top;\n",
       "    }\n",
       "\n",
       "    .dataframe thead th {\n",
       "        text-align: right;\n",
       "    }\n",
       "</style>\n",
       "<table border=\"1\" class=\"dataframe\">\n",
       "  <thead>\n",
       "    <tr style=\"text-align: right;\">\n",
       "      <th></th>\n",
       "      <th>TotBytes</th>\n",
       "      <th>SrcBytes</th>\n",
       "      <th>DstAddr_1.1.1.1</th>\n",
       "      <th>DstAddr_1.0.0.1</th>\n",
       "      <th>SrcPkts</th>\n",
       "      <th>State_FSA_FSA</th>\n",
       "      <th>TotPkts</th>\n",
       "      <th>Label_v1_TCP-WEB-Established-TLS</th>\n",
       "      <th>StartTimeTimestamp</th>\n",
       "      <th>Label_v1_TCP</th>\n",
       "      <th>DstAddr_8.8.8.8</th>\n",
       "      <th>Label_v1_UDP-DNS</th>\n",
       "      <th>Proto_udp</th>\n",
       "      <th>DstAddr_8.8.4.4</th>\n",
       "      <th>Label_v1_UDP-Attempt-DNS</th>\n",
       "      <th>Dur</th>\n",
       "      <th>State_FSRPA_SPA</th>\n",
       "      <th>Label_v1_TCP-WEB-Established</th>\n",
       "      <th>Proto_tcp</th>\n",
       "      <th>Label_v1_Google-Net-8</th>\n",
       "    </tr>\n",
       "  </thead>\n",
       "  <tbody>\n",
       "    <tr>\n",
       "      <th>1</th>\n",
       "      <td>6.567139e-08</td>\n",
       "      <td>0.000002</td>\n",
       "      <td>0</td>\n",
       "      <td>0</td>\n",
       "      <td>0.000000</td>\n",
       "      <td>0</td>\n",
       "      <td>0.000000</td>\n",
       "      <td>0</td>\n",
       "      <td>0.000000</td>\n",
       "      <td>0</td>\n",
       "      <td>0</td>\n",
       "      <td>0</td>\n",
       "      <td>0</td>\n",
       "      <td>0</td>\n",
       "      <td>0</td>\n",
       "      <td>0.000000</td>\n",
       "      <td>0</td>\n",
       "      <td>0</td>\n",
       "      <td>0</td>\n",
       "      <td>0</td>\n",
       "    </tr>\n",
       "    <tr>\n",
       "      <th>2</th>\n",
       "      <td>3.174117e-06</td>\n",
       "      <td>0.000097</td>\n",
       "      <td>0</td>\n",
       "      <td>0</td>\n",
       "      <td>0.000000</td>\n",
       "      <td>0</td>\n",
       "      <td>0.000000</td>\n",
       "      <td>0</td>\n",
       "      <td>0.001106</td>\n",
       "      <td>0</td>\n",
       "      <td>0</td>\n",
       "      <td>0</td>\n",
       "      <td>1</td>\n",
       "      <td>0</td>\n",
       "      <td>0</td>\n",
       "      <td>0.000000</td>\n",
       "      <td>0</td>\n",
       "      <td>0</td>\n",
       "      <td>0</td>\n",
       "      <td>0</td>\n",
       "    </tr>\n",
       "    <tr>\n",
       "      <th>3</th>\n",
       "      <td>1.878202e-05</td>\n",
       "      <td>0.000572</td>\n",
       "      <td>0</td>\n",
       "      <td>0</td>\n",
       "      <td>0.000045</td>\n",
       "      <td>0</td>\n",
       "      <td>0.000013</td>\n",
       "      <td>0</td>\n",
       "      <td>0.001106</td>\n",
       "      <td>0</td>\n",
       "      <td>0</td>\n",
       "      <td>0</td>\n",
       "      <td>1</td>\n",
       "      <td>0</td>\n",
       "      <td>0</td>\n",
       "      <td>0.019769</td>\n",
       "      <td>0</td>\n",
       "      <td>0</td>\n",
       "      <td>0</td>\n",
       "      <td>0</td>\n",
       "    </tr>\n",
       "    <tr>\n",
       "      <th>4</th>\n",
       "      <td>9.522351e-06</td>\n",
       "      <td>0.000136</td>\n",
       "      <td>0</td>\n",
       "      <td>0</td>\n",
       "      <td>0.000227</td>\n",
       "      <td>0</td>\n",
       "      <td>0.000142</td>\n",
       "      <td>0</td>\n",
       "      <td>0.001109</td>\n",
       "      <td>0</td>\n",
       "      <td>0</td>\n",
       "      <td>0</td>\n",
       "      <td>0</td>\n",
       "      <td>0</td>\n",
       "      <td>0</td>\n",
       "      <td>0.987300</td>\n",
       "      <td>0</td>\n",
       "      <td>0</td>\n",
       "      <td>0</td>\n",
       "      <td>0</td>\n",
       "    </tr>\n",
       "    <tr>\n",
       "      <th>5</th>\n",
       "      <td>1.014623e-04</td>\n",
       "      <td>0.003089</td>\n",
       "      <td>0</td>\n",
       "      <td>0</td>\n",
       "      <td>0.001408</td>\n",
       "      <td>0</td>\n",
       "      <td>0.000418</td>\n",
       "      <td>0</td>\n",
       "      <td>0.001109</td>\n",
       "      <td>0</td>\n",
       "      <td>0</td>\n",
       "      <td>0</td>\n",
       "      <td>1</td>\n",
       "      <td>0</td>\n",
       "      <td>0</td>\n",
       "      <td>0.971178</td>\n",
       "      <td>0</td>\n",
       "      <td>0</td>\n",
       "      <td>0</td>\n",
       "      <td>0</td>\n",
       "    </tr>\n",
       "  </tbody>\n",
       "</table>\n",
       "</div>"
      ],
      "text/plain": [
       "       TotBytes  SrcBytes  DstAddr_1.1.1.1  DstAddr_1.0.0.1   SrcPkts  \\\n",
       "1  6.567139e-08  0.000002                0                0  0.000000   \n",
       "2  3.174117e-06  0.000097                0                0  0.000000   \n",
       "3  1.878202e-05  0.000572                0                0  0.000045   \n",
       "4  9.522351e-06  0.000136                0                0  0.000227   \n",
       "5  1.014623e-04  0.003089                0                0  0.001408   \n",
       "\n",
       "   State_FSA_FSA   TotPkts  Label_v1_TCP-WEB-Established-TLS  \\\n",
       "1              0  0.000000                                 0   \n",
       "2              0  0.000000                                 0   \n",
       "3              0  0.000013                                 0   \n",
       "4              0  0.000142                                 0   \n",
       "5              0  0.000418                                 0   \n",
       "\n",
       "   StartTimeTimestamp  Label_v1_TCP  DstAddr_8.8.8.8  Label_v1_UDP-DNS  \\\n",
       "1            0.000000             0                0                 0   \n",
       "2            0.001106             0                0                 0   \n",
       "3            0.001106             0                0                 0   \n",
       "4            0.001109             0                0                 0   \n",
       "5            0.001109             0                0                 0   \n",
       "\n",
       "   Proto_udp  DstAddr_8.8.4.4  Label_v1_UDP-Attempt-DNS       Dur  \\\n",
       "1          0                0                         0  0.000000   \n",
       "2          1                0                         0  0.000000   \n",
       "3          1                0                         0  0.019769   \n",
       "4          0                0                         0  0.987300   \n",
       "5          1                0                         0  0.971178   \n",
       "\n",
       "   State_FSRPA_SPA  Label_v1_TCP-WEB-Established  Proto_tcp  \\\n",
       "1                0                             0          0   \n",
       "2                0                             0          0   \n",
       "3                0                             0          0   \n",
       "4                0                             0          0   \n",
       "5                0                             0          0   \n",
       "\n",
       "   Label_v1_Google-Net-8  \n",
       "1                      0  \n",
       "2                      0  \n",
       "3                      0  \n",
       "4                      0  \n",
       "5                      0  "
      ]
     },
     "execution_count": 377,
     "metadata": {},
     "output_type": "execute_result"
    }
   ],
   "source": [
    "# take the 20 most important features for visualization purpose to reduce complexity of the tree\n",
    "\n",
    "X_tree = X[[i for j in dffeat[:20].index.to_list() for i in j]]\n",
    "print(X_tree.shape)\n",
    "X_tree.head()"
   ]
  },
  {
   "cell_type": "markdown",
   "metadata": {},
   "source": [
    "### Test the accuracy using only the top 20 features"
   ]
  },
  {
   "cell_type": "code",
   "execution_count": 345,
   "metadata": {},
   "outputs": [
    {
     "name": "stdout",
     "output_type": "stream",
     "text": [
      "(52096, 18)\n",
      "(52096, 1)\n",
      "(5789, 18)\n",
      "(5789, 1)\n"
     ]
    }
   ],
   "source": [
    "X_train, X_test, y_train, y_test = train_test_split(X_tree, y, test_size=0.1, random_state=42)\n",
    "\n",
    "print(X_train.shape)\n",
    "print(y_train.shape)\n",
    "print(X_test.shape)\n",
    "print(y_test.shape)"
   ]
  },
  {
   "cell_type": "code",
   "execution_count": 384,
   "metadata": {},
   "outputs": [],
   "source": [
    "dtree = DecisionTreeClassifier(criterion='gini',\n",
    "    max_depth = 3,\n",
    "    min_samples_split=4,\n",
    "    min_samples_leaf=10)\n",
    "dtree = dtree.fit(X,y)"
   ]
  },
  {
   "cell_type": "code",
   "execution_count": 350,
   "metadata": {},
   "outputs": [
    {
     "name": "stdout",
     "output_type": "stream",
     "text": [
      "Confusion Matrix: \n",
      " [[ 324  103]\n",
      " [   3 5359]]\n",
      "Accuracy of Classifier: \n",
      " 0.9816894109518052\n",
      "              precision    recall  f1-score   support\n",
      "\n",
      "         0.0       0.99      0.76      0.86       427\n",
      "         1.0       0.98      1.00      0.99      5362\n",
      "\n",
      "   micro avg       0.98      0.98      0.98      5789\n",
      "   macro avg       0.99      0.88      0.92      5789\n",
      "weighted avg       0.98      0.98      0.98      5789\n",
      "\n"
     ]
    }
   ],
   "source": [
    "y_pred = dtree.predict(X_test)\n",
    "\n",
    "print('Confusion Matrix: \\n',confusion_matrix(y_test, y_pred))\n",
    "print('Accuracy of Classifier: \\n',accuracy_score(y_test, y_pred))\n",
    "print(classification_report(y_test, y_pred))"
   ]
  },
  {
   "cell_type": "markdown",
   "metadata": {},
   "source": [
    "the top 10 features contribute to 99.9% accuracy of the model, meaning that rest of the features are obselete"
   ]
  },
  {
   "cell_type": "code",
   "execution_count": 385,
   "metadata": {},
   "outputs": [
    {
     "data": {
      "image/png": "[encoded data removed]",
      "text/plain": [
       "<IPython.core.display.Image object>"
      ]
     },
     "execution_count": 385,
     "metadata": {
      "image/png": {
       "height": 1000,
       "width": 500
      }
     },
     "output_type": "execute_result"
    }
   ],
   "source": [
    "# Create DOT data\n",
    "dot_data = tree.export_graphviz(dtree, out_file = None, \n",
    "                                feature_names = X.columns,\n",
    "                                class_names = ['No Threat','Threat'], # model.classes_,\n",
    "                                filled=True,\n",
    "                                rounded=True)\n",
    "\n",
    "# Draw graph\n",
    "graph = pydotplus.graph_from_dot_data(dot_data)  \n",
    "colors = ('turquoise', 'pink')\n",
    "edges = collections.defaultdict(list)\n",
    "\n",
    "for edge in graph.get_edge_list():\n",
    "    edges[edge.get_source()].append(int(edge.get_destination()))\n",
    "\n",
    "for edge in edges:\n",
    "    edges[edge].sort()    \n",
    "    for i in range(2):\n",
    "        dest = graph.get_node(str(edges[edge][i]))[0]\n",
    "        dest.set_fillcolor(colors[i])\n",
    "\n",
    "graph.write_png('tree1.png')\n",
    "\n",
    "from IPython.display import Image\n",
    "Image(filename='tree1.png', width=500,\n",
    "    height=1000) "
   ]
  },
  {
   "cell_type": "markdown",
   "metadata": {},
   "source": [
    "* The tree is 3 layer deep excluding the root node, this is because 'max_depth' was specified as 3 to reduce the tree complexity. \n",
    "* The model chooses the 'Source Bytes' feature, which is the most 'impure' node (gini score is the highest.. the lower it is, the better). \n",
    "* It then splits the data into 1s and 0s (Threats and Non threats)\n",
    "* The model iteratively tries to lower the gini index by splitting the nodes further until it reaches the max_depth of 3."
   ]
  },
  {
   "cell_type": "code",
   "execution_count": 573,
   "metadata": {},
   "outputs": [],
   "source": [
    "# if out_file is not None, \n",
    "# with open(\"tree_nonlimited.dot\") as f:\n",
    "#     dot_graph = f.read()\n",
    "# graphviz.Source(dot_graph)"
   ]
  },
  {
   "cell_type": "markdown",
   "metadata": {},
   "source": [
    "# Conclusion"
   ]
  },
  {
   "cell_type": "markdown",
   "metadata": {},
   "source": [
    "Network flow attributes especially pertaning to amount of data sent and recieved are some of the most important factors. IP of the source and destination is important for threat negative cases."
   ]
  }
 ],
 "metadata": {
  "kernelspec": {
   "display_name": "Python 3",
   "language": "python",
   "name": "python3"
  },
  "language_info": {
   "codemirror_mode": {
    "name": "ipython",
    "version": 3
   },
   "file_extension": ".py",
   "mimetype": "text/x-python",
   "name": "python",
   "nbconvert_exporter": "python",
   "pygments_lexer": "ipython3",
   "version": "3.7.3"
  }
 },
 "nbformat": 4,
 "nbformat_minor": 2
}
